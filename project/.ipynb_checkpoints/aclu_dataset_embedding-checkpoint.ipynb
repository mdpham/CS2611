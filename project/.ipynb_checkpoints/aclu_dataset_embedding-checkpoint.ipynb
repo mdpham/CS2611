{
 "cells": [
  {
   "cell_type": "code",
   "execution_count": 1,
   "id": "426d18f5-983a-40e8-b78a-24698310eacb",
   "metadata": {},
   "outputs": [],
   "source": [
    "# This is necessary to include the project directory into system paths\n",
    "import os\n",
    "import sys\n",
    "module_path = os.path.abspath(os.path.join('..'))\n",
    "if module_path not in sys.path:\n",
    "    sys.path.append(module_path)"
   ]
  },
  {
   "cell_type": "code",
   "execution_count": 2,
   "id": "2bc18f2d-bc1a-4ef7-85b9-c97dceaaab57",
   "metadata": {},
   "outputs": [],
   "source": [
    "# Now we can import from project directory\n",
    "from project.src.data_classes import (\n",
    "    Opinion,\n",
    "    ProjectUtils,\n",
    "    gender_words\n",
    ")\n",
    "# \n",
    "from collections import Counter\n",
    "import pandas as pd\n",
    "import matplotlib.pyplot as plt\n",
    "import numpy as np\n",
    "import seaborn as sns\n",
    "plt.rcParams[\"figure.figsize\"] = (10,10)"
   ]
  },
  {
   "cell_type": "code",
   "execution_count": 3,
   "id": "0a61096d-2d4c-4559-a465-2015449651f4",
   "metadata": {},
   "outputs": [],
   "source": [
    "aclu_opinions = pd.read_csv('aclu_opinions.csv').sort_values('year_filed')\n",
    "# ProjectUtils.summarize_opinions_metadata(aclu_opinions)"
   ]
  },
  {
   "cell_type": "code",
   "execution_count": 20,
   "id": "1fea9abe-2acf-4db5-bf30-b71b01a07b74",
   "metadata": {},
   "outputs": [
    {
     "name": "stdout",
     "output_type": "stream",
     "text": [
      "Number of opinions: 56\n",
      "Number of unique cases: 23\n",
      "case_name\n",
      "Harris v. McRae                    4\n",
      "Craig v. Boren                     4\n",
      "Orr v. Orr                         4\n",
      "Griswold v. Connecticut            4\n",
      "Taylor v. Louisiana                3\n",
      "Stanton v. Stanton                 3\n",
      "Rostker v. Goldberg                3\n",
      "Doe v. Bolton                      3\n",
      "Roe v. Wade                        3\n",
      "Eisenstadt v. Baird                3\n",
      "Kahn v. Shevin                     3\n",
      "Geduldig v. Aiello                 2\n",
      "Nashville Gas Co. v. Satty         2\n",
      "United States v. Vuitch            2\n",
      "Bigelow v. Virginia                2\n",
      "Frontiero v. Richardson            2\n",
      "Duren v. Missouri                  2\n",
      "County of Washington v. Gunther    2\n",
      "Reed v. Reed                       1\n",
      "Dothard v. Rawlinson               1\n",
      "Corning Glass Works v. Brennan     1\n",
      "Califano v. Westcott               1\n",
      "Bellotti v. Baird                  1\n",
      "dtype: int64\n",
      "----\n",
      "category\n",
      "majority             23\n",
      "dissenting           15\n",
      "concurring            9\n",
      "second_dissenting     7\n",
      "per_curiam            2\n",
      "dtype: int64\n",
      "----\n",
      "Number of unique justices: 13\n",
      "author_name\n",
      "Justice Rehnquist    11\n",
      "Justice Brennan       8\n",
      "Justice Blackmun      7\n",
      "Justice White         7\n",
      "Justice Stewart       5\n",
      "Justice Burger        3\n",
      "Justice Douglas       3\n",
      "Justice Marshall      3\n",
      "Justice Powell        3\n",
      "Justice Black         2\n",
      "per_curiam            2\n",
      "Justice Goldberg      1\n",
      "Justice Stevens       1\n",
      "dtype: int64\n",
      "----\n",
      "scdb_decision_direction\n",
      "2.0    40\n",
      "1.0    16\n",
      "dtype: int64\n"
     ]
    }
   ],
   "source": [
    "# Only interested in 'Roe v. Wade'\n",
    "# roe_wade_opinions = aclu_opinions[aclu_opinions['case_name'] == 'Roe v. Wade']\n",
    "# Only interested in 'Second wave feminism' i.e. 1960-1980\n",
    "opinions_second_wave = aclu_opinions[aclu_opinions['year_filed'].between(1962, 1982)]\n",
    "ProjectUtils.summarize_opinions_metadata(opinions_second_wave)"
   ]
  },
  {
   "cell_type": "code",
   "execution_count": 5,
   "id": "0f240b79-67b0-4e17-90f7-f527208199c6",
   "metadata": {},
   "outputs": [
    {
     "name": "stdout",
     "output_type": "stream",
     "text": [
      "['he', 'his', 'him', 'man', 'men', 'himself', 'son', 'father', 'husband', 'guy', 'boy', 'brother', 'male', 'dad', 'boyfriend', 'king', 'grandfather', 'uncle', 'grandson', 'nephew', 'lad', 'gentleman', 'fraternity', 'bachelor', 'prince', 'dude', 'gentlemen', 'stepfather', 'daddy', 'sir', 'bloke', 'groom', 'stepson', 'suitor', 'godfather', 'grandpa', 'fella', 'hero', 'fatherhood', 'fraternities', 'papa', 'pa']\n",
      "['her', 'hers', 'she', 'women', 'woman', 'herself', 'daughter', 'mother', 'wife', 'gal', 'girl', 'sister', 'female', 'mom', 'girlfriend', 'queen', 'grandmother', 'aunt', 'granddaughter', 'niece', 'lady', 'gentlewoman', 'sorority', 'bachelorette', 'princess', 'dame', 'gentlewomen', 'stepmother', 'mommy', 'ms', 'madam', 'bride', 'stepdaughter', 'maiden', 'godmother', 'grandma', 'missus', 'heroine', 'motherhood', 'sororities', 'mama', 'ma']\n"
     ]
    }
   ],
   "source": [
    "target_words_male = gender_words['malemax']\n",
    "target_words_female = gender_words['femalemax']\n",
    "print(target_words_male)\n",
    "print(target_words_female)"
   ]
  },
  {
   "cell_type": "code",
   "execution_count": null,
   "id": "20d21658-8e6f-47c7-bac7-068cd31eebf2",
   "metadata": {},
   "outputs": [],
   "source": []
  },
  {
   "cell_type": "code",
   "execution_count": null,
   "id": "cb2f7a29-409d-4581-934e-61c232b167d8",
   "metadata": {},
   "outputs": [],
   "source": []
  },
  {
   "cell_type": "code",
   "execution_count": 7,
   "id": "11c90a4f-cb23-471d-88e5-e61cb5312e4f",
   "metadata": {},
   "outputs": [
    {
     "name": "stdout",
     "output_type": "stream",
     "text": [
      "        author_name           category  per_curiam                case_name  \\\n",
      "0        per_curiam         per_curiam        True      Taylor v. Louisiana   \n",
      "1   Justice Stewart  second_dissenting       False  Griswold v. Connecticut   \n",
      "2     Justice Black         dissenting       False  Griswold v. Connecticut   \n",
      "3  Justice Goldberg         concurring       False  Griswold v. Connecticut   \n",
      "4   Justice Douglas           majority       False  Griswold v. Connecticut   \n",
      "\n",
      "   federal_cite_one  year_filed  scdb_decision_direction  \\\n",
      "0               NaN        1962                      2.0   \n",
      "1               NaN        1965                      2.0   \n",
      "2               NaN        1965                      2.0   \n",
      "3               NaN        1965                      2.0   \n",
      "4               NaN        1965                      2.0   \n",
      "\n",
      "                                                text  type_count  token_count  \n",
      "0  Petitioners, six Negroes, were convicted of vi...         229          470  \n",
      "1  Since 1879 Connecticut has had on its books a ...         327          861  \n",
      "2  I agree with my Brother STEWART'S dissenting o...         993         3699  \n",
      "3  I agree with the Court that Connecticut's birt...        1226         5125  \n",
      "4  Appellant Griswold is Executive Director of th...         670         1702  \n"
     ]
    },
    {
     "data": {
      "image/png": "[encoded data removed]",
      "text/plain": [
       "<Figure size 720x720 with 1 Axes>"
      ]
     },
     "metadata": {
      "needs_background": "light"
     },
     "output_type": "display_data"
    },
    {
     "name": "stdout",
     "output_type": "stream",
     "text": [
      "        author_name           category  per_curiam                case_name  \\\n",
      "0        per_curiam         per_curiam        True      Taylor v. Louisiana   \n",
      "1   Justice Stewart  second_dissenting       False  Griswold v. Connecticut   \n",
      "2     Justice Black         dissenting       False  Griswold v. Connecticut   \n",
      "3  Justice Goldberg         concurring       False  Griswold v. Connecticut   \n",
      "4   Justice Douglas           majority       False  Griswold v. Connecticut   \n",
      "\n",
      "   federal_cite_one  year_filed  scdb_decision_direction  \\\n",
      "0               NaN        1962                      2.0   \n",
      "1               NaN        1965                      2.0   \n",
      "2               NaN        1965                      2.0   \n",
      "3               NaN        1965                      2.0   \n",
      "4               NaN        1965                      2.0   \n",
      "\n",
      "                                                text  type_count  token_count  \n",
      "0  Petitioners, six Negroes, were convicted of vi...         229          470  \n",
      "1  Since 1879 Connecticut has had on its books a ...         327          861  \n",
      "2  I agree with my Brother STEWART'S dissenting o...         993         3699  \n",
      "3  I agree with the Court that Connecticut's birt...        1226         5125  \n",
      "4  Appellant Griswold is Executive Director of th...         670         1702  \n"
     ]
    },
    {
     "data": {
      "image/png": "[encoded data removed]",
      "text/plain": [
       "<Figure size 720x720 with 1 Axes>"
      ]
     },
     "metadata": {
      "needs_background": "light"
     },
     "output_type": "display_data"
    }
   ],
   "source": [
    "ProjectUtils.plot_corpora_scatter(opinions_second_wave, type_token='type_count')\n",
    "ProjectUtils.plot_corpora_scatter(opinions_second_wave, type_token='token_count')"
   ]
  },
  {
   "cell_type": "code",
   "execution_count": 28,
   "id": "106abe90-c89f-400f-b5c7-6edb95b77609",
   "metadata": {},
   "outputs": [
    {
     "name": "stdout",
     "output_type": "stream",
     "text": [
      "16\n",
      "[('law', 13), ('court', 10), ('connecticut', 8), ('states', 7), ('ninth', 7)]\n",
      "[('law', 41), ('court', 38), ('v', 37), ('us', 33), ('amendment', 30)]\n",
      "[('v', 107), ('us', 93), ('amendment', 73), ('court', 66), ('state', 63)]\n",
      "[('v', 143), ('us', 128), ('amendment', 86), ('rights', 70), ('court', 69)]\n",
      "[('v', 168), ('us', 150), ('amendment', 97), ('rights', 80), ('court', 77)]\n",
      "[('v', 176), ('us', 157), ('amendment', 100), ('court', 90), ('state', 84)]\n",
      "[('v', 207), ('us', 176), ('court', 121), ('amendment', 106), ('rights', 103)]\n",
      "[('v', 266), ('us', 225), ('court', 163), ('state', 137), ('rights', 127)]\n",
      "[('v', 267), ('us', 227), ('court', 171), ('state', 140), ('rights', 128)]\n",
      "[('v', 268), ('us', 227), ('court', 171), ('state', 144), ('rights', 128)]\n",
      "[('v', 369), ('us', 293), ('abortion', 253), ('state', 225), ('court', 208)]\n",
      "[('v', 380), ('us', 305), ('abortion', 263), ('state', 237), ('court', 224)]\n",
      "[('v', 405), ('us', 327), ('abortion', 264), ('state', 245), ('court', 230)]\n",
      "[('v', 421), ('us', 343), ('abortion', 265), ('state', 253), ('court', 236)]\n",
      "[('v', 425), ('us', 350), ('state', 270), ('abortion', 265), ('court', 254)]\n",
      "[('v', 444), ('us', 366), ('court', 302), ('abortion', 291), ('state', 283)]\n"
     ]
    }
   ],
   "source": [
    "# opinions = roe_wade_opinions['text'].values\n",
    "# opinions = opinions_second_wave['text'].values\n",
    "pregnancy_cases = [\"Griswold v. Connecticut\", \"Eisenstadt v. Baird\", \"Roe v. Wade\", \"Doe v. Bolton\", \"Geduldig v. Aiello\", \"Bellotti v. Baird\"]\n",
    "opinions = opinions_second_wave.loc[opinions_second_wave['case_name'].isin(pregnancy_cases)]['text'].values\n",
    "# len(text)\n",
    "# tokenized opinion text\n",
    "# print(opinions)\n",
    "print(len(opinions))\n",
    "ugram = Counter()\n",
    "bigram = Counter()\n",
    "for text in opinions:\n",
    "    clean_text = ProjectUtils.clean_text(text)\n",
    "    ugram, bigram = ProjectUtils.count_grams(clean_text, ugram, bigram)\n",
    "    print(ugram.most_common(5))"
   ]
  },
  {
   "cell_type": "code",
   "execution_count": null,
   "id": "ee182847-38e7-4ecf-a31a-bae12ff9e6ec",
   "metadata": {},
   "outputs": [],
   "source": []
  },
  {
   "cell_type": "code",
   "execution_count": 37,
   "id": "7cdf8ddd-68fb-4d1d-9578-0f3887c40812",
   "metadata": {},
   "outputs": [
    {
     "name": "stdout",
     "output_type": "stream",
     "text": [
      "Male target word counts\n",
      "\this 84\n",
      "\the 84\n",
      "\thim 15\n",
      "\tmen 12\n",
      "\tbrother 11\n",
      "\thusband 7\n",
      "\thimself 4\n",
      "\tman 4\n",
      "\tprince 4\n",
      "\tgentlemen 1\n",
      "\tfather 1\n",
      "\tmale 1\n",
      "\tpa 1\n",
      "Female target word counts\n",
      "\ther 104\n",
      "\twoman 67\n",
      "\tshe 56\n",
      "\tmother 32\n",
      "\twomen 22\n",
      "\therself 8\n",
      "\twife 6\n",
      "\tfemale 3\n",
      "\tlady 2\n",
      "\tmotherhood 2\n",
      "\tgirl 1\n",
      "\tprincess 1\n"
     ]
    }
   ],
   "source": [
    "male_ugram = Counter(dict([(k,v) for k,v in ugram.items() if k in target_words_male]))\n",
    "female_ugram = Counter(dict([(k,v) for k,v in ugram.items() if k in target_words_female]))\n",
    "print('Male target word counts')\n",
    "for (w,c) in male_ugram.most_common(20):\n",
    "    print('\\t{} {}'.format(w, c))\n",
    "print('Female target word counts')\n",
    "for (w,c) in female_ugram.most_common(20):\n",
    "    print('\\t{} {}'.format(w, c))"
   ]
  },
  {
   "cell_type": "code",
   "execution_count": null,
   "id": "be0a201c-becc-4411-a3be-49be778d8c28",
   "metadata": {},
   "outputs": [],
   "source": []
  },
  {
   "cell_type": "code",
   "execution_count": 30,
   "id": "abf189e2-f456-4371-9b97-7669fb702594",
   "metadata": {},
   "outputs": [],
   "source": [
    "ppmi, cooccurence, x2i, i2x = ProjectUtils.model_matrices(ugram, bigram)"
   ]
  },
  {
   "cell_type": "code",
   "execution_count": 34,
   "id": "3604f36f-b490-4052-a8a0-c00fd3dc95cd",
   "metadata": {},
   "outputs": [
    {
     "name": "stdout",
     "output_type": "stream",
     "text": [
      "<class 'scipy.sparse.csc.csc_matrix'>\n",
      "U shape (5078, 1000)\n",
      "S shape (1000,)\n",
      "VT shape (1000, 5078)\n"
     ]
    }
   ],
   "source": [
    "svd = ProjectUtils.model_svd(ppmi, k=1000)"
   ]
  },
  {
   "cell_type": "code",
   "execution_count": 35,
   "id": "1e1708a5-f7b2-4bb0-938e-3d1aa56f9813",
   "metadata": {},
   "outputs": [],
   "source": [
    "U = svd['U']"
   ]
  },
  {
   "cell_type": "code",
   "execution_count": 36,
   "id": "8b323f2d-ce9d-4715-bce3-6723e7aa66ab",
   "metadata": {},
   "outputs": [
    {
     "name": "stdout",
     "output_type": "stream",
     "text": [
      "his, 84\n",
      " (historically, 0.649) (him, 0.637) (hippocratic, 0.485) (high, 0.446) (homicide, 0.405) \n",
      "----------\n",
      "he, 84\n",
      " (haunt, 0.456) (health, 0.549) (hazardous, 0.513) (held, 0.574) (her, 0.409) \n",
      "----------\n",
      "him, 15\n",
      " (high, 0.679) (his, 0.637) (herself, 0.525) (hippocrates, 0.472) (historically, 0.451) \n",
      "----------\n",
      "men, 12\n",
      " (maximum, 0.472) (minimum, 0.561) (mitigate, 0.337) (maricopa, 0.392) (meanings, 0.320) \n",
      "----------\n",
      "brother, 11\n",
      " (brothers, 0.545) (brokers, 0.542) (brotherhood, 0.511) (broadens, 0.418) (broaden, 0.500) \n",
      "----------\n",
      "husband, 7\n",
      " (husbands, 0.332) (hopefully, 0.397) (houses, 0.383) (hurley, 0.342) (identity, 0.347) \n",
      "----------\n",
      "himself, 4\n",
      " (hazard, 0.427) (identical, 0.311) (illegitimacy, 0.411) (hurdles, 0.289) (illogical, 0.271) \n",
      "----------\n",
      "man, 4\n",
      " (many, 0.358) (marbury, 0.399) (makers, 0.451) (male, 0.351) (mans, 0.323) \n",
      "----------\n",
      "prince, 4\n",
      " (prevents, 0.500) (principles, 0.514) (prevail, 0.401) (privacythat, 0.432) (presumed, 0.350) \n",
      "----------\n",
      "gentlemen, 1\n",
      " (gains, 0.760) (gideon, 0.953) (gales, 0.896) (gitlow, 0.816) (gen, 0.378) \n",
      "----------\n",
      "her, 104\n",
      " (held, 0.715) (herself, 0.618) (hearing, 0.552) (healthwise, 0.462) (health, 0.445) \n",
      "----------\n",
      "woman, 67\n",
      " (within, 0.673) (womans, 0.960) (withholding, 0.637) (woes, 0.626) (womb, 0.585) \n",
      "----------\n",
      "she, 56\n",
      " (sharply, 0.968) (shared, 0.928) (sherbert, 0.804) (short, 0.544) (sheltered, 0.534) \n",
      "----------\n",
      "mother, 32\n",
      " (mortality, 0.695) (mothers, 0.880) (motherhood, 0.631) (morningafter, 0.496) (morton, 0.422) \n",
      "----------\n",
      "women, 22\n",
      " (womans, 0.627) (workers, 0.707) (worker, 0.753) (work, 0.684) (williams, 0.636) \n",
      "----------\n",
      "herself, 8\n",
      " (high, 0.733) (her, 0.618) (hereto, 0.591) (hereof, 0.528) (him, 0.525) \n",
      "----------\n",
      "wife, 6\n",
      " (wide, 0.591) (wieman, 0.694) (witness, 0.648) (widespread, 0.686) (yale, 0.500) \n",
      "----------\n",
      "female, 3\n",
      " (fetal, 0.442) (felony, 0.479) (females, 0.423) (fetus, 0.367) (femalesaye, 0.367) \n",
      "----------\n",
      "lady, 2\n",
      " (knowing, 0.855) (lectures, 0.596) (learn, 0.786) (killing, 0.596) (labor, 0.504) \n",
      "----------\n",
      "motherhood, 2\n",
      " (mothers, 0.717) (motions, 0.502) (mortality, 0.546) (mother, 0.631) (moribund, 0.377) \n",
      "----------\n"
     ]
    }
   ],
   "source": [
    "most_common_gender_words = dict(male_ugram.most_common(10) + female_ugram.most_common(10)).keys()\n",
    "most_common_words = dict(ugram.most_common(20)).keys()\n",
    "\n",
    "k = 5\n",
    "for x in most_common_gender_words:\n",
    "# for x in most_common_words:\n",
    "    dd = np.dot(U, U[x2i[x]]) # Cosine similarity for this unigram against all others.\n",
    "    s = ''\n",
    "    # Compile the list of nearest neighbor descriptions.\n",
    "    # Argpartition is faster than argsort and meets our needs.\n",
    "    for i in np.argpartition(-1 * dd, k + 1)[:k + 1]:\n",
    "        if i2x[i] == x: continue\n",
    "        s += '%s, %.3lf\\n ' % (i2x[i], dd[i])\n",
    "    print('%s, %d\\n %s' % (x, ugram[x], s))\n",
    "    print('-' * 10)"
   ]
  },
  {
   "cell_type": "code",
   "execution_count": null,
   "id": "475566cc-25cf-478d-814a-70e1bf10784d",
   "metadata": {},
   "outputs": [],
   "source": []
  }
 ],
 "metadata": {
  "kernelspec": {
   "display_name": "Python 3",
   "language": "python",
   "name": "python3"
  },
  "language_info": {
   "codemirror_mode": {
    "name": "ipython",
    "version": 3
   },
   "file_extension": ".py",
   "mimetype": "text/x-python",
   "name": "python",
   "nbconvert_exporter": "python",
   "pygments_lexer": "ipython3",
   "version": "3.9.7"
  }
 },
 "nbformat": 4,
 "nbformat_minor": 5
}
